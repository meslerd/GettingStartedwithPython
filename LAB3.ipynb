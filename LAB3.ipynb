{
 "cells": [
  {
   "cell_type": "markdown",
   "metadata": {},
   "source": [
    "Daniella Mesler\n",
    "\n",
    "# Part 1\n",
    "\n",
    "## Task 1\n",
    "I am not exactly sure what all is going on here, Python is brand new to me but from the list of notebooks given [EarthPy](http://earthpy.org/category/data-processing.html) looks interesting. This notebook uses the Scientific Python (scipy) stack tools to generate flow duration curves from current USGS NWIS data. Under \"Data Processing\", there is a notebook that is entitled, \"Flow duration curves from current USGS NWIS data\". Here, they describe a function that uses the ulmo package to retrieve U.S. Geological Survey surface water site data from the National Water Information System (NWIS) website. The function also puts the data from the website into a usable format. The function gets site information from NWIS, which includes site name, watershed size, and coordinates.Additionally, it generates a flow duration curve for hydrologic data. A flow duration curve is a percent point function (ppf), displaying discharge as a function of probability of that discharge occuring. The ppf is the inverse of the better known cumulative distribution function (cdf).\n",
    "\n",
    "## Task 2\n",
    "\n",
    "#### A\n",
    "Normally the lists are longer than list but the top 5 libraries according to, [PythonTips](https://pythontips.com/2018/06/03/top-14-most-famous-python-libraries-frameworks/) are: requests, tqdm, pillow, scrapy and numpy. PythonTips provides external links to each one of the libraries they list. To describe two of them, Requests allows you to Requests allows you to send HTTP/1.1 requests automatically (there’s no need to manually add query strings to your URLs, or to form-encode your POST data). Secondly, Pillow provides extensive file format support, an efficient internal representation, and fairly powerful image processing capabilities (image archives, display, and processing). The core image library is designed for fast access to data stored in a few basic pixel formats.\n",
    "#### B \n",
    "So from my understanding, it appears that there is a version of ggplot you can use in/with Python, named ggplot. According to [this site](https://www.r-bloggers.com/ggplot2-style-plotting-in-python/), the syntax is very very similar. [This site](https://medium.com/@gscheithauer/data-visualization-in-python-like-in-rs-ggplot2-bc62f8debbf5) describes how plotnine has very similar functions/applications as ggplot.\n",
    "#### C\n",
    "Pandas appears to be the library that allows for dataframe wrangling similar to with R, in that it is designed to do work with “labeled” and “relational” data simple and intuitive. Apparently, it is designed for quick and easy data manipulation, aggregation, and visualization. [This site](https://pandas.pydata.org/) provides instructions on downloading this library.\n",
    "\n",
    "## Task 3\n",
    " - r \n",
    "     - read inside out, unless using pipe operator then left to right\n",
    "     - has data science functions built into it\n",
    "     - parenthesis appear to be used with both df objects and for calling functions\n",
    "     - can easily install libraries/functions (just install.packages())\n",
    "     - counts starting from 1 \n",
    "     - basic organization of function(df/object)\n",
    " - python \n",
    "     - read left to right\n",
    "     - need to load libraries in order to complete different functions/visualizations\n",
    "     - brackets used with df's (subsets within objects), paranethesis are used with functions\n",
    "     - more difficult to install libraries/functions (use anaconda/pip, then import etc.) \n",
    "     - counts starting from 0 \n",
    "     - basic organizaation of df.function[subset]\n",
    " "
   ]
  },
  {
   "cell_type": "markdown",
   "metadata": {},
   "source": [
    "# Part 2"
   ]
  },
  {
   "cell_type": "code",
   "execution_count": 89,
   "metadata": {},
   "outputs": [
    {
     "name": "stdout",
     "output_type": "stream",
     "text": [
      "Daniella is married to KC\n",
      "Daniella has been married to KC for 4 years.\n",
      "DANIELLA HAS BEEN MARRIED TO KC FOR 4 YEARS\n"
     ]
    },
    {
     "data": {
      "text/plain": [
       "['Daniella', 'has', 'been', 'test', 'married', 'to', 'KC', 'for', '4', 'years']"
      ]
     },
     "execution_count": 89,
     "metadata": {},
     "output_type": "execute_result"
    }
   ],
   "source": [
    "#Task 4\n",
    "a = \"Daniella\"\n",
    "b = \"KC\"\n",
    "print a+ \" is married to \" +b\n",
    "\n",
    "#Task 5\n",
    "a = \"Daniella\"\n",
    "b = \"KC\"\n",
    "c = 4\n",
    "print a+ \" has been married to \" +b+ \" for \" + str(c) + \" years.\"\n",
    "\n",
    "#Task 6\n",
    "string = \"Daniella has been married to KC for 4 years\"\n",
    "print string.upper()\n",
    "\n",
    "#Task 6 - I am a bit confused by what exactly we are listing as a list and what we are joining as a string here...\n",
    "list1 = [\"Daniella\", \"is\", \"married\", \"to\", \"KC\"]\n",
    "list2 = [\"Daniella\", \"has\", \"been\", \"married\", \"to\", \"KC\", \"for\", \"4\", \"years\"]\n",
    "test = \" \"\n",
    "test.join(list2)\n",
    "string.count(\"e\")\n",
    "string.find(\"married\")\n",
    "\n",
    "#Task 7\n",
    "string[0:23]\n",
    "\n",
    "#Task 8\n",
    "string.strip(\"4\")\n",
    "#not sure why ^ that didnt work\n",
    "string.replace(\"has been married to KC for 4 years\", \"is ALWAYS hungry\")\n",
    "\n",
    "#Task 9\n",
    "# the split operation worked on its own, but i tried saving this an object to use it for \"insert\" but it didnt work \n",
    "string = \"Daniella has been married to KC for 4 years\"\n",
    "new_list = string.split(\" \")\n",
    "new_list.insert(3, \"test\")\n",
    "new_list\n"
   ]
  },
  {
   "cell_type": "markdown",
   "metadata": {},
   "source": [
    "# Part 3"
   ]
  },
  {
   "cell_type": "code",
   "execution_count": 83,
   "metadata": {},
   "outputs": [
    {
     "name": "stdout",
     "output_type": "stream",
     "text": [
      "33\n",
      "2nd Quartile\n"
     ]
    }
   ],
   "source": [
    "# Task 10\n",
    "import random\n",
    "x = random.randint(0, 100)\n",
    "print x\n",
    "if x <= 25:\n",
    "    print \"1st Quartile\"\n",
    "elif x > 25 and x <= 50:\n",
    "    print \"2nd Quartile\"\n",
    "elif x > 50 and x <= 75:\n",
    "    print \"3rd Quartile\"\n",
    "elif x > 75 and x <= 100:\n",
    "    print \"4th Quartile\""
   ]
  },
  {
   "cell_type": "markdown",
   "metadata": {},
   "source": [
    "# Part 4"
   ]
  },
  {
   "cell_type": "code",
   "execution_count": 119,
   "metadata": {},
   "outputs": [
    {
     "name": "stdout",
     "output_type": "stream",
     "text": [
      "Warning, residents of Chicago temperatures will reach sub-zero temperatures today, please stay indoors if possible\n",
      "Warning, residents of Indianapolis temperatures will reach sub-zero temperatures today, please stay indoors if possible\n",
      "Warning, residents of Columbus temperatures will reach sub-zero temperatures today, please stay indoors if possible\n",
      "Warning, residents of Milwaukee temperatures will reach sub-zero temperatures today, please stay indoors if possible\n",
      "Warning, residents of Kansas City temperatures will reach sub-zero temperatures today, please stay indoors if possible\n",
      "Warning, residents of Omaha temperatures will reach sub-zero temperatures today, please stay indoors if possible\n"
     ]
    }
   ],
   "source": [
    "#Task 11\n",
    "for f in [\"Chicago\", \"Indianapolis\", \"Columbus\", \"Milwaukee\", \"Kansas City\", \"Omaha\"]:\n",
    "    print(\"Warning, residents of \"+ f +\" temperatures will reach sub-zero temperatures today, please stay indoors if possible\")\n"
   ]
  },
  {
   "cell_type": "code",
   "execution_count": 108,
   "metadata": {},
   "outputs": [
    {
     "name": "stdout",
     "output_type": "stream",
     "text": [
      "U://Users/Zhang/Geog_458/Washington.shp\n",
      "U://Users/Zhang/Geog_458/California.shp\n",
      "U://Users/Zhang/Geog_458/Nevada.shp\n",
      "U://Users/Zhang/Geog_458/Idaho.shp\n",
      "U://Users/Zhang/Geog_458/Montana.shp\n",
      "U://Users/Zhang/Geog_458/Utah.shp\n",
      "U://Users/Zhang/Geog_458/Colorado.shp\n",
      "U://Users/Zhang/Geog_458/New Mexico.shp\n",
      "T-minus 10\n",
      "T-minus 9\n",
      "T-minus 8\n",
      "T-minus 7\n",
      "T-minus 6\n",
      "T-minus 5\n",
      "T-minus 4\n",
      "T-minus 3\n",
      "T-minus 2\n",
      "T-minus 1\n",
      "T-minus 0\n"
     ]
    }
   ],
   "source": [
    "#Task 12\n",
    "cities = [\"Washington\", \"California\", \"Nevada\", \"Idaho\", \"Montana\", \"Utah\", \"Colorado\", \"New Mexico\"]\n",
    "empty_list=[]\n",
    "\n",
    "for city in cities:\n",
    "    filename = \"U://Users/Zhang/Geog_458/\"+city+\".shp\"\n",
    "    print filename\n",
    "    empty_list.append(filename)\n",
    "\n",
    "empty_list\n",
    "\n",
    "#Task 13\n",
    "i = 10\n",
    "while i >= 0:\n",
    "    print \"T-minus \"+str(i)\n",
    "    i = i-1"
   ]
  },
  {
   "cell_type": "markdown",
   "metadata": {},
   "source": [
    "# Part 5"
   ]
  },
  {
   "cell_type": "code",
   "execution_count": 116,
   "metadata": {},
   "outputs": [
    {
     "name": "stdout",
     "output_type": "stream",
     "text": [
      "76\n",
      "4th Quartile\n"
     ]
    }
   ],
   "source": [
    "#Task 13...again\n",
    "def countdown(x):\n",
    "    i = (x)\n",
    "    while i >= 0:\n",
    "        print \"T-minus \"+str(i)\n",
    "        i = i-1\n",
    "        \n",
    "#Task 14\n",
    "#I do not know what you mean by \"in a range of 0 to 100 (as if the number was a percent).\" What do you want here?\n",
    "def quartile_calc(x):\n",
    "    print x\n",
    "    if x <= 25:\n",
    "        print \"1st Quartile\"\n",
    "    elif x > 25 and x <= 50:\n",
    "        print \"2nd Quartile\"\n",
    "    elif x > 50 and x <= 75:\n",
    "        print \"3rd Quartile\"\n",
    "    elif x > 75 and x <= 100:\n",
    "        print \"4th Quartile\"\n",
    "    elif x > 100:\n",
    "        print \"Error\"\n",
    "    elif x < 0:\n",
    "        print \"Error\"\n",
    "        \n",
    "quartile_calc(76)"
   ]
  }
 ],
 "metadata": {
  "kernelspec": {
   "display_name": "Python 2",
   "language": "python",
   "name": "python2"
  },
  "language_info": {
   "codemirror_mode": {
    "name": "ipython",
    "version": 2
   },
   "file_extension": ".py",
   "mimetype": "text/x-python",
   "name": "python",
   "nbconvert_exporter": "python",
   "pygments_lexer": "ipython2",
   "version": "2.7.15"
  }
 },
 "nbformat": 4,
 "nbformat_minor": 2
}
